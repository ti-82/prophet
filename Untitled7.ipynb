{
  "nbformat": 4,
  "nbformat_minor": 0,
  "metadata": {
    "colab": {
      "name": "Untitled7.ipynb",
      "provenance": []
    },
    "kernelspec": {
      "name": "python3",
      "display_name": "Python 3"
    },
    "language_info": {
      "name": "python"
    }
  },
  "cells": [
    {
      "cell_type": "code",
      "metadata": {
        "id": "BOJbBlWEmVGR"
      },
      "source": [
        "def plot_price_trend(df, start_date, end_date):\n",
        "    \"\"\"\n",
        "    This function filters the dataframe for the specified date range and \n",
        "    plots the line plot of the data using seaborn.\n",
        "    \n",
        "    The dataframe may not be indexed on any Datetime column.\n",
        "    In this case, we use mask to filter out the date.\n",
        "    \"\"\"\n",
        "    mask = (df['Date'] > start_date) & (df['Date'] <= end_date)\n",
        "    sdf = df.loc[mask]\n",
        "    plt.figure(figsize = (10,5))\n",
        "    chart = sns.lineplot(x='Date',y='Price',data = sdf)\n",
        "    #chart.set_xticklabels(chart.get_xticklabels(), rotation=45)\n",
        "    plt.title(\"Brent Oil Price Trend\")"
      ],
      "execution_count": null,
      "outputs": []
    }
  ]
}