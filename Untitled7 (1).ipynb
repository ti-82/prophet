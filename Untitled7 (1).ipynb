{
  "nbformat": 4,
  "nbformat_minor": 0,
  "metadata": {
    "colab": {
      "name": "Untitled7.ipynb",
      "provenance": []
    },
    "kernelspec": {
      "name": "python3",
      "display_name": "Python 3"
    },
    "language_info": {
      "name": "python"
    }
  },
  "cells": [
    {
      "cell_type": "code",
      "metadata": {
        "id": "BOJbBlWEmVGR"
      },
      "source": [
        "def plot_price_trend(df, start_date, end_date):\n",
        "\n",
        "    mask = (df['Date'] > start_date) & (df['Date'] <= end_date)\n",
        "    sdf = df.loc[mask]\n",
        "    plt.figure(figsize = (10,5))\n",
        "    chart = sns.lineplot(x='Date',y='Price',data = sdf)\n",
        "    #chart.set_xticklabels(chart.get_xticklabels(), rotation=45)\n",
        "    plt.title(\"Brent Oil Price Trend\")"
      ],
      "execution_count": null,
      "outputs": []
    }
  ]
}